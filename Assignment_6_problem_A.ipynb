{
 "cells": [
  {
   "cell_type": "code",
   "execution_count": 5,
   "id": "6432a30b",
   "metadata": {},
   "outputs": [
    {
     "name": "stdout",
     "output_type": "stream",
     "text": [
      "{'name': 'John', 'dob': '1990-05-15', 'height': 175, 'city': 'Mumbai', 'state': 'Maharashtra'}\n",
      "{'name': 'Emily', 'dob': '1988-08-20', 'height': 163, 'city': 'Bangalore', 'state': 'Karnataka'}\n",
      "{'name': 'Michael', 'dob': '1995-03-10', 'height': 180, 'city': 'Delhi', 'state': 'Delhi'}\n",
      "{'name': 'Sophia', 'dob': '1992-11-02', 'height': 168, 'city': 'Kolkata', 'state': 'West Bengal'}\n",
      "{'name': 'Jacob', 'dob': '1991-07-25', 'height': 172, 'city': 'Chennai', 'state': 'Tamil Nadu'}\n"
     ]
    }
   ],
   "source": [
    "import json\n",
    "\n",
    "class Employee:\n",
    "    def __init__(self, name, dob, height, city, state):\n",
    "        self.name = name\n",
    "        self.dob = dob\n",
    "        self.height = height\n",
    "        self.city = city\n",
    "        self.state = state\n",
    "\n",
    "# Read employee data from JSON file\n",
    "with open('employee.json') as json_file:\n",
    "    employee_data = json.load(json_file)\n",
    "\n",
    "# Create Employee objects and store in a list\n",
    "employee_objects = []\n",
    "for emp_info in employee_data:\n",
    "    emp = Employee(\n",
    "        emp_info['Name'],\n",
    "        emp_info['DOB'],\n",
    "        emp_info['Height'],\n",
    "        emp_info['City'],\n",
    "        emp_info['State']\n",
    "    )\n",
    "    employee_objects.append(emp)\n",
    "\n",
    "# Print the list of Employee objects\n",
    "for emp in employee_objects:\n",
    "    print(vars(emp))\n"
   ]
  },
  {
   "cell_type": "code",
   "execution_count": null,
   "id": "57fa5e4a",
   "metadata": {},
   "outputs": [],
   "source": []
  }
 ],
 "metadata": {
  "kernelspec": {
   "display_name": "Python 3 (ipykernel)",
   "language": "python",
   "name": "python3"
  },
  "language_info": {
   "codemirror_mode": {
    "name": "ipython",
    "version": 3
   },
   "file_extension": ".py",
   "mimetype": "text/x-python",
   "name": "python",
   "nbconvert_exporter": "python",
   "pygments_lexer": "ipython3",
   "version": "3.10.9"
  }
 },
 "nbformat": 4,
 "nbformat_minor": 5
}
